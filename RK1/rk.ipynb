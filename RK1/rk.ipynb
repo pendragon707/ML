{
 "cells": [
  {
   "cell_type": "markdown",
   "metadata": {},
   "source": [
    "#### Задача №2.\n",
    "\n",
    "Для заданного набора данных проведите обработку пропусков в данных для одного категориального и одного количественного признака. Какие способы обработки пропусков в данных для категориальных и количественных признаков Вы использовали? Какие признаки Вы будете использовать для дальнейшего построения моделей машинного обучения и почему?\n",
    "\n",
    "Для произвольной колонки данных построить график \"Скрипичная диаграмма (violin plot)\"."
   ]
  },
  {
   "cell_type": "code",
   "execution_count": 108,
   "metadata": {},
   "outputs": [],
   "source": [
    "from sklearn.impute import SimpleImputer\n",
    "from sklearn.impute import MissingIndicator\n",
    "import pandas as pd\n",
    "import numpy as np\n",
    "import seaborn as sns\n",
    "import matplotlib.pyplot as plt"
   ]
  },
  {
   "cell_type": "code",
   "execution_count": 135,
   "metadata": {},
   "outputs": [],
   "source": [
    "data = pd.read_csv('states_all.csv')"
   ]
  },
  {
   "cell_type": "code",
   "execution_count": 110,
   "metadata": {},
   "outputs": [
    {
     "name": "stdout",
     "output_type": "stream",
     "text": [
      "<class 'pandas.core.frame.DataFrame'>\n",
      "RangeIndex: 1715 entries, 0 to 1714\n",
      "Data columns (total 25 columns):\n",
      " #   Column                        Non-Null Count  Dtype  \n",
      "---  ------                        --------------  -----  \n",
      " 0   PRIMARY_KEY                   1715 non-null   object \n",
      " 1   STATE                         1715 non-null   object \n",
      " 2   YEAR                          1715 non-null   int64  \n",
      " 3   ENROLL                        1224 non-null   float64\n",
      " 4   TOTAL_REVENUE                 1275 non-null   float64\n",
      " 5   FEDERAL_REVENUE               1275 non-null   float64\n",
      " 6   STATE_REVENUE                 1275 non-null   float64\n",
      " 7   LOCAL_REVENUE                 1275 non-null   float64\n",
      " 8   TOTAL_EXPENDITURE             1275 non-null   float64\n",
      " 9   INSTRUCTION_EXPENDITURE       1275 non-null   float64\n",
      " 10  SUPPORT_SERVICES_EXPENDITURE  1275 non-null   float64\n",
      " 11  OTHER_EXPENDITURE             1224 non-null   float64\n",
      " 12  CAPITAL_OUTLAY_EXPENDITURE    1275 non-null   float64\n",
      " 13  GRADES_PK_G                   1542 non-null   float64\n",
      " 14  GRADES_KG_G                   1632 non-null   float64\n",
      " 15  GRADES_4_G                    1632 non-null   float64\n",
      " 16  GRADES_8_G                    1632 non-null   float64\n",
      " 17  GRADES_12_G                   1632 non-null   float64\n",
      " 18  GRADES_1_8_G                  1020 non-null   float64\n",
      " 19  GRADES_9_12_G                 1071 non-null   float64\n",
      " 20  GRADES_ALL_G                  1632 non-null   float64\n",
      " 21  AVG_MATH_4_SCORE              565 non-null    float64\n",
      " 22  AVG_MATH_8_SCORE              602 non-null    float64\n",
      " 23  AVG_READING_4_SCORE           650 non-null    float64\n",
      " 24  AVG_READING_8_SCORE           562 non-null    float64\n",
      "dtypes: float64(22), int64(1), object(2)\n",
      "memory usage: 335.1+ KB\n"
     ]
    }
   ],
   "source": [
    "data.info()"
   ]
  },
  {
   "cell_type": "markdown",
   "metadata": {},
   "source": [
    "# Обработка пропусков в данных для количественного признака"
   ]
  },
  {
   "cell_type": "markdown",
   "metadata": {},
   "source": [
    "Рассмотрим количественные признаки"
   ]
  },
  {
   "cell_type": "code",
   "execution_count": 137,
   "metadata": {},
   "outputs": [
    {
     "name": "stdout",
     "output_type": "stream",
     "text": [
      "Колонка ENROLL. Тип данных float64. Количество пустых значений 491, 28.63%.\n",
      "Колонка TOTAL_REVENUE. Тип данных float64. Количество пустых значений 440, 25.66%.\n",
      "Колонка FEDERAL_REVENUE. Тип данных float64. Количество пустых значений 440, 25.66%.\n",
      "Колонка STATE_REVENUE. Тип данных float64. Количество пустых значений 440, 25.66%.\n",
      "Колонка LOCAL_REVENUE. Тип данных float64. Количество пустых значений 440, 25.66%.\n",
      "Колонка TOTAL_EXPENDITURE. Тип данных float64. Количество пустых значений 440, 25.66%.\n",
      "Колонка INSTRUCTION_EXPENDITURE. Тип данных float64. Количество пустых значений 440, 25.66%.\n",
      "Колонка SUPPORT_SERVICES_EXPENDITURE. Тип данных float64. Количество пустых значений 440, 25.66%.\n",
      "Колонка OTHER_EXPENDITURE. Тип данных float64. Количество пустых значений 491, 28.63%.\n",
      "Колонка CAPITAL_OUTLAY_EXPENDITURE. Тип данных float64. Количество пустых значений 440, 25.66%.\n",
      "Колонка GRADES_PK_G. Тип данных float64. Количество пустых значений 173, 10.09%.\n",
      "Колонка GRADES_KG_G. Тип данных float64. Количество пустых значений 83, 4.84%.\n",
      "Колонка GRADES_4_G. Тип данных float64. Количество пустых значений 83, 4.84%.\n",
      "Колонка GRADES_8_G. Тип данных float64. Количество пустых значений 83, 4.84%.\n",
      "Колонка GRADES_12_G. Тип данных float64. Количество пустых значений 83, 4.84%.\n",
      "Колонка GRADES_1_8_G. Тип данных float64. Количество пустых значений 695, 40.52%.\n",
      "Колонка GRADES_9_12_G. Тип данных float64. Количество пустых значений 644, 37.55%.\n",
      "Колонка GRADES_ALL_G. Тип данных float64. Количество пустых значений 83, 4.84%.\n",
      "Колонка AVG_MATH_4_SCORE. Тип данных float64. Количество пустых значений 1150, 67.06%.\n",
      "Колонка AVG_MATH_8_SCORE. Тип данных float64. Количество пустых значений 1113, 64.9%.\n",
      "Колонка AVG_READING_4_SCORE. Тип данных float64. Количество пустых значений 1065, 62.1%.\n",
      "Колонка AVG_READING_8_SCORE. Тип данных float64. Количество пустых значений 1153, 67.23%.\n"
     ]
    }
   ],
   "source": [
    "total_count = data.shape[0]\n",
    "for col in data.columns:\n",
    "    temp_null_count = data[data[col].isnull()].shape[0]\n",
    "    dt = str(data[col].dtype)\n",
    "    if temp_null_count>0 and (dt=='float64' or dt=='int64'):\n",
    "        temp_perc = round((temp_null_count / total_count) * 100.0, 2)\n",
    "        print('Колонка {}. Тип данных {}. Количество пустых значений {}, {}%.'.format(col, dt, temp_null_count, temp_perc))"
   ]
  },
  {
   "cell_type": "markdown",
   "metadata": {},
   "source": [
    "Выберем колонку GRADES_KG_G, в которой меньше 5% пропущенных значений."
   ]
  },
  {
   "cell_type": "code",
   "execution_count": 113,
   "metadata": {},
   "outputs": [],
   "source": [
    "feature = 'GRADES_KG_G'"
   ]
  },
  {
   "cell_type": "code",
   "execution_count": 114,
   "metadata": {},
   "outputs": [
    {
     "data": {
      "text/plain": [
       "4.84"
      ]
     },
     "execution_count": 114,
     "metadata": {},
     "output_type": "execute_result"
    }
   ],
   "source": [
    "round(data[data[feature].isnull()].shape[0] / data.shape[0] * 100.0, 2)"
   ]
  },
  {
   "cell_type": "code",
   "execution_count": 115,
   "metadata": {},
   "outputs": [
    {
     "data": {
      "image/png": "[encoded data removed]",
      "text/plain": [
       "<Figure size 432x288 with 1 Axes>"
      ]
     },
     "metadata": {
      "needs_background": "light"
     },
     "output_type": "display_data"
    }
   ],
   "source": [
    "plt.hist(data[feature], 50)\n",
    "plt.xlabel(feature)\n",
    "plt.show()"
   ]
  },
  {
   "cell_type": "code",
   "execution_count": 116,
   "metadata": {},
   "outputs": [
    {
     "data": {
      "text/plain": [
       "<seaborn.axisgrid.FacetGrid at 0x7ff81e137430>"
      ]
     },
     "execution_count": 116,
     "metadata": {},
     "output_type": "execute_result"
    },
    {
     "data": {
      "image/png": "[encoded data removed]",
      "text/plain": [
       "<Figure size 360x360 with 1 Axes>"
      ]
     },
     "metadata": {
      "needs_background": "light"
     },
     "output_type": "display_data"
    }
   ],
   "source": [
    "sns.catplot(x=feature, data=data, kind=\"violin\")"
   ]
  },
  {
   "cell_type": "code",
   "execution_count": 117,
   "metadata": {},
   "outputs": [
    {
     "data": {
      "text/html": [
       "<div>\n",
       "<style scoped>\n",
       "    .dataframe tbody tr th:only-of-type {\n",
       "        vertical-align: middle;\n",
       "    }\n",
       "\n",
       "    .dataframe tbody tr th {\n",
       "        vertical-align: top;\n",
       "    }\n",
       "\n",
       "    .dataframe thead th {\n",
       "        text-align: right;\n",
       "    }\n",
       "</style>\n",
       "<table border=\"1\" class=\"dataframe\">\n",
       "  <thead>\n",
       "    <tr style=\"text-align: right;\">\n",
       "      <th></th>\n",
       "      <th>GRADES_KG_G</th>\n",
       "    </tr>\n",
       "  </thead>\n",
       "  <tbody>\n",
       "    <tr>\n",
       "      <th>count</th>\n",
       "      <td>1632.000000</td>\n",
       "    </tr>\n",
       "    <tr>\n",
       "      <th>mean</th>\n",
       "      <td>68810.962010</td>\n",
       "    </tr>\n",
       "    <tr>\n",
       "      <th>std</th>\n",
       "      <td>80671.033008</td>\n",
       "    </tr>\n",
       "    <tr>\n",
       "      <th>min</th>\n",
       "      <td>5122.000000</td>\n",
       "    </tr>\n",
       "    <tr>\n",
       "      <th>25%</th>\n",
       "      <td>19029.750000</td>\n",
       "    </tr>\n",
       "    <tr>\n",
       "      <th>50%</th>\n",
       "      <td>48122.000000</td>\n",
       "    </tr>\n",
       "    <tr>\n",
       "      <th>75%</th>\n",
       "      <td>78864.250000</td>\n",
       "    </tr>\n",
       "    <tr>\n",
       "      <th>max</th>\n",
       "      <td>535379.000000</td>\n",
       "    </tr>\n",
       "  </tbody>\n",
       "</table>\n",
       "</div>"
      ],
      "text/plain": [
       "         GRADES_KG_G\n",
       "count    1632.000000\n",
       "mean    68810.962010\n",
       "std     80671.033008\n",
       "min      5122.000000\n",
       "25%     19029.750000\n",
       "50%     48122.000000\n",
       "75%     78864.250000\n",
       "max    535379.000000"
      ]
     },
     "execution_count": 117,
     "metadata": {},
     "output_type": "execute_result"
    }
   ],
   "source": [
    "data[[feature]].describe()"
   ]
  },
  {
   "cell_type": "code",
   "execution_count": 118,
   "metadata": {},
   "outputs": [
    {
     "data": {
      "text/plain": [
       "(68810.96200980392,\n",
       " 48122.0,\n",
       " 0       6579.0\n",
       " 1       6891.0\n",
       " 2       7469.0\n",
       " 3       8025.0\n",
       " 4       9075.0\n",
       " 5       9273.0\n",
       " 6      10069.0\n",
       " 7      10116.0\n",
       " 8      10409.0\n",
       " 9      10451.0\n",
       " 10     10559.0\n",
       " 11     22282.0\n",
       " 12     23411.0\n",
       " 13     23723.0\n",
       " 14     35715.0\n",
       " 15     47591.0\n",
       " 16     50378.0\n",
       " 17     67051.0\n",
       " 18    459771.0\n",
       " dtype: float64)"
      ]
     },
     "execution_count": 118,
     "metadata": {},
     "output_type": "execute_result"
    }
   ],
   "source": [
    "data[feature].mean(), data[feature].median(), data[feature].mode()"
   ]
  },
  {
   "cell_type": "markdown",
   "metadata": {},
   "source": [
    "Рассмотрим разные способы заполнения пропусков в признаке."
   ]
  },
  {
   "cell_type": "code",
   "execution_count": 119,
   "metadata": {},
   "outputs": [],
   "source": [
    "def test_num_impute_col(dataset, column, strategy_param):\n",
    "    temp_data = dataset[[column]]\n",
    "    \n",
    "    indicator = MissingIndicator()\n",
    "    mask_missing_values_only = indicator.fit_transform(temp_data)\n",
    "    \n",
    "    imp_num = SimpleImputer(strategy=strategy_param)\n",
    "    data_num_imp = imp_num.fit_transform(temp_data)\n",
    "    \n",
    "    filled_data = data_num_imp[mask_missing_values_only]\n",
    "    \n",
    "    plt.hist(data_num_imp, 50)\n",
    "    plt.xlabel(feature)\n",
    "    plt.show()\n",
    "    \n",
    "    return column, strategy_param, filled_data.size, filled_data[0], filled_data[filled_data.size-1], data_num_imp.mean()"
   ]
  },
  {
   "cell_type": "code",
   "execution_count": 120,
   "metadata": {},
   "outputs": [],
   "source": [
    "strategies=['mean', 'median', 'most_frequent']"
   ]
  },
  {
   "cell_type": "code",
   "execution_count": 121,
   "metadata": {},
   "outputs": [
    {
     "data": {
      "image/png": "[encoded data removed]",
      "text/plain": [
       "<Figure size 432x288 with 1 Axes>"
      ]
     },
     "metadata": {
      "needs_background": "light"
     },
     "output_type": "display_data"
    },
    {
     "data": {
      "text/plain": [
       "('GRADES_KG_G',\n",
       " 'mean',\n",
       " 83,\n",
       " 68810.96200980392,\n",
       " 68810.96200980392,\n",
       " 68810.96200980392)"
      ]
     },
     "execution_count": 121,
     "metadata": {},
     "output_type": "execute_result"
    }
   ],
   "source": [
    "test_num_impute_col(data, feature, strategies[0])"
   ]
  },
  {
   "cell_type": "code",
   "execution_count": 122,
   "metadata": {},
   "outputs": [
    {
     "data": {
      "image/png": "[encoded data removed]",
      "text/plain": [
       "<Figure size 432x288 with 1 Axes>"
      ]
     },
     "metadata": {
      "needs_background": "light"
     },
     "output_type": "display_data"
    },
    {
     "data": {
      "text/plain": [
       "('GRADES_KG_G', 'median', 83, 48122.0, 48122.0, 67809.6886297376)"
      ]
     },
     "execution_count": 122,
     "metadata": {},
     "output_type": "execute_result"
    }
   ],
   "source": [
    "test_num_impute_col(data, feature, strategies[1])"
   ]
  },
  {
   "cell_type": "code",
   "execution_count": 123,
   "metadata": {},
   "outputs": [
    {
     "data": {
      "image/png": "[encoded data removed]",
      "text/plain": [
       "<Figure size 432x288 with 1 Axes>"
      ]
     },
     "metadata": {
      "needs_background": "light"
     },
     "output_type": "display_data"
    },
    {
     "data": {
      "text/plain": [
       "('GRADES_KG_G', 'most_frequent', 83, 6579.0, 6579.0, 65799.1527696793)"
      ]
     },
     "execution_count": 123,
     "metadata": {},
     "output_type": "execute_result"
    }
   ],
   "source": [
    "test_num_impute_col(data, feature, strategies[2])"
   ]
  },
  {
   "cell_type": "markdown",
   "metadata": {},
   "source": [
    "Распределение не одномодальное, присутствуют выбросы в значениях справа, так что заполним пустые поля значением медианы."
   ]
  },
  {
   "cell_type": "code",
   "execution_count": 124,
   "metadata": {},
   "outputs": [],
   "source": [
    "data[[feature]] = SimpleImputer(missing_values=np.nan, strategy='median').fit_transform(data[[feature]])"
   ]
  },
  {
   "cell_type": "code",
   "execution_count": 126,
   "metadata": {},
   "outputs": [
    {
     "data": {
      "text/html": [
       "<div>\n",
       "<style scoped>\n",
       "    .dataframe tbody tr th:only-of-type {\n",
       "        vertical-align: middle;\n",
       "    }\n",
       "\n",
       "    .dataframe tbody tr th {\n",
       "        vertical-align: top;\n",
       "    }\n",
       "\n",
       "    .dataframe thead th {\n",
       "        text-align: right;\n",
       "    }\n",
       "</style>\n",
       "<table border=\"1\" class=\"dataframe\">\n",
       "  <thead>\n",
       "    <tr style=\"text-align: right;\">\n",
       "      <th></th>\n",
       "      <th>GRADES_KG_G</th>\n",
       "    </tr>\n",
       "  </thead>\n",
       "  <tbody>\n",
       "    <tr>\n",
       "      <th>count</th>\n",
       "      <td>1715.000000</td>\n",
       "    </tr>\n",
       "    <tr>\n",
       "      <th>mean</th>\n",
       "      <td>67809.688630</td>\n",
       "    </tr>\n",
       "    <tr>\n",
       "      <th>std</th>\n",
       "      <td>78818.783078</td>\n",
       "    </tr>\n",
       "    <tr>\n",
       "      <th>min</th>\n",
       "      <td>5122.000000</td>\n",
       "    </tr>\n",
       "    <tr>\n",
       "      <th>25%</th>\n",
       "      <td>20944.000000</td>\n",
       "    </tr>\n",
       "    <tr>\n",
       "      <th>50%</th>\n",
       "      <td>48122.000000</td>\n",
       "    </tr>\n",
       "    <tr>\n",
       "      <th>75%</th>\n",
       "      <td>75726.000000</td>\n",
       "    </tr>\n",
       "    <tr>\n",
       "      <th>max</th>\n",
       "      <td>535379.000000</td>\n",
       "    </tr>\n",
       "  </tbody>\n",
       "</table>\n",
       "</div>"
      ],
      "text/plain": [
       "         GRADES_KG_G\n",
       "count    1715.000000\n",
       "mean    67809.688630\n",
       "std     78818.783078\n",
       "min      5122.000000\n",
       "25%     20944.000000\n",
       "50%     48122.000000\n",
       "75%     75726.000000\n",
       "max    535379.000000"
      ]
     },
     "execution_count": 126,
     "metadata": {},
     "output_type": "execute_result"
    }
   ],
   "source": [
    "data[[feature]].describe()"
   ]
  },
  {
   "cell_type": "code",
   "execution_count": 127,
   "metadata": {},
   "outputs": [
    {
     "data": {
      "text/plain": [
       "(67809.6886297376,\n",
       " 48122.0,\n",
       " 0    48122.0\n",
       " dtype: float64)"
      ]
     },
     "execution_count": 127,
     "metadata": {},
     "output_type": "execute_result"
    }
   ],
   "source": [
    "data[feature].mean(), data[feature].median(), data[feature].mode()"
   ]
  },
  {
   "cell_type": "markdown",
   "metadata": {},
   "source": [
    "# Обработка пропусков в данных для категориального признака"
   ]
  },
  {
   "cell_type": "markdown",
   "metadata": {},
   "source": [
    "Рассмотрим категориальные признаки"
   ]
  },
  {
   "cell_type": "code",
   "execution_count": 128,
   "metadata": {},
   "outputs": [],
   "source": [
    "cat_cols = []\n",
    "for col in data.columns:\n",
    "    # Количество пустых значений \n",
    "    temp_null_count = data[data[col].isnull()].shape[0]\n",
    "    dt = str(data[col].dtype)\n",
    "    if temp_null_count>0 and (dt=='object'):\n",
    "        cat_cols.append(col)\n",
    "        temp_perc = round((temp_null_count / total_count) * 100.0, 2)\n",
    "        print('Колонка {}. Тип данных {}. Количество пустых значений {}, {}%.'.format(col, dt, temp_null_count, temp_perc))"
   ]
  },
  {
   "cell_type": "markdown",
   "metadata": {},
   "source": [
    "Пропусков в категориальных признаках нет, так что для примера создадим новый признак."
   ]
  },
  {
   "cell_type": "code",
   "execution_count": 89,
   "metadata": {},
   "outputs": [
    {
     "data": {
      "image/png": "[encoded data removed]",
      "text/plain": [
       "<Figure size 432x288 with 1 Axes>"
      ]
     },
     "metadata": {
      "needs_background": "light"
     },
     "output_type": "display_data"
    }
   ],
   "source": [
    "plt.hist(data['STATE'], 50)\n",
    "plt.xlabel('STATE')\n",
    "plt.show()"
   ]
  },
  {
   "cell_type": "code",
   "execution_count": 129,
   "metadata": {},
   "outputs": [],
   "source": [
    "data['BAD_STATE'] = [data['STATE'][i] if i % 10 != 0 else np.nan for i in range(len(data['STATE']))]"
   ]
  },
  {
   "cell_type": "code",
   "execution_count": 130,
   "metadata": {},
   "outputs": [
    {
     "data": {
      "text/plain": [
       "10.03"
      ]
     },
     "execution_count": 130,
     "metadata": {},
     "output_type": "execute_result"
    }
   ],
   "source": [
    "round(data[data['BAD_STATE'].isnull()].shape[0] / data.shape[0] * 100.0, 2)"
   ]
  },
  {
   "cell_type": "markdown",
   "metadata": {},
   "source": [
    "Заполним пропуски константой 'NA'. Данные по странам распределены довольно равномерно, и наиболее частое значение вряд ли действительно будет подходить. Лучше пусть модель знает, что данных о стране у нас нет."
   ]
  },
  {
   "cell_type": "code",
   "execution_count": 131,
   "metadata": {},
   "outputs": [],
   "source": [
    "data[['BAD_STATE']] = SimpleImputer(missing_values=np.nan, strategy='constant', fill_value='NA').fit_transform(data[['BAD_STATE']])"
   ]
  },
  {
   "cell_type": "code",
   "execution_count": 132,
   "metadata": {},
   "outputs": [
    {
     "data": {
      "text/plain": [
       "0"
      ]
     },
     "execution_count": 132,
     "metadata": {},
     "output_type": "execute_result"
    }
   ],
   "source": [
    "data['BAD_STATE'].isnull().sum()"
   ]
  },
  {
   "cell_type": "markdown",
   "metadata": {},
   "source": [
    "Видим, что все пропуски заполнены."
   ]
  },
  {
   "cell_type": "markdown",
   "metadata": {},
   "source": [
    "# Дальнейшее построение моделей машинного обучения"
   ]
  },
  {
   "cell_type": "markdown",
   "metadata": {},
   "source": [
    "Для дальнейшего построения моделей машинного обучения в идеале стоит удалить признаки, процент пропусков в которых больше 5% то есть ENROLL (28.63%), TOTAL_REVENUE (25.66%) и т. д. Хотя таких признаков здесь слишком много, так что стоит учитывать их корреляцию с целевым признаком, и наиболее ценные постраться заполнить при 20-30%.\n",
    "\n",
    "Также довольно много пропупущенных значений в потенциально целевых признаках AVG_READING_8_SCORE (67.23%), AVG_READING_4_SCORE (62.1%) и т. д. Как-либо заполнять пропуски при таком их количестве чревато, это будет уже выдумка, но удалять целевой признак тоже нельзя. Возможно, лучше всего будет удалить строки с пропущенным целевым признаком. "
   ]
  },
  {
   "cell_type": "code",
   "execution_count": 133,
   "metadata": {},
   "outputs": [
    {
     "data": {
      "text/plain": [
       "((1715, 26), (562, 26))"
      ]
     },
     "execution_count": 133,
     "metadata": {},
     "output_type": "execute_result"
    }
   ],
   "source": [
    "data_new_2 = data.dropna(axis=0, subset=['AVG_READING_8_SCORE', 'AVG_READING_4_SCORE', 'AVG_READING_4_SCORE', 'AVG_READING_8_SCORE'], how='any')\n",
    "(data.shape, data_new_2.shape)"
   ]
  }
 ],
 "metadata": {
  "authors": [
   {
    "name": "Подопригорова Наталья Сергеевна"
   }
  ],
  "group": "ИУ5-64б",
  "kernelspec": {
   "display_name": "Python 3",
   "language": "python",
   "name": "python3"
  },
  "language_info": {
   "codemirror_mode": {
    "name": "ipython",
    "version": 3
   },
   "file_extension": ".py",
   "mimetype": "text/x-python",
   "name": "python",
   "nbconvert_exporter": "python",
   "pygments_lexer": "ipython3",
   "version": "3.8.3"
  }
 },
 "nbformat": 4,
 "nbformat_minor": 4
}
